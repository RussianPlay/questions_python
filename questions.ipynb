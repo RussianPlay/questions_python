{
  "nbformat": 4,
  "nbformat_minor": 0,
  "metadata": {
    "colab": {
      "provenance": [],
      "toc_visible": true,
      "authorship_tag": "ABX9TyOwHThgRgfSib4LKIrmEFtw",
      "include_colab_link": true
    },
    "kernelspec": {
      "name": "python3",
      "display_name": "Python 3"
    },
    "language_info": {
      "name": "python"
    }
  },
  "cells": [
    {
      "cell_type": "markdown",
      "metadata": {
        "id": "view-in-github",
        "colab_type": "text"
      },
      "source": [
        "<a href=\"https://colab.research.google.com/github/RussianPlay/questions_python/blob/main/questions.ipynb\" target=\"_parent\"><img src=\"https://colab.research.google.com/assets/colab-badge.svg\" alt=\"Open In Colab\"/></a>"
      ]
    },
    {
      "cell_type": "markdown",
      "source": [
        "# Задачи для темы 1\n",
        "\n",
        "\n",
        "\n"
      ],
      "metadata": {
        "id": "_dn81Ugda3dp"
      }
    },
    {
      "cell_type": "code",
      "source": [
        "# Ахмадуллин Эльмир Рамилевич 09-314\n",
        "from math import log\n",
        "\n",
        "# Задача 1\n",
        "b = int(input())\n",
        "z = (9 - (b + 2) ** 2) / (b ** 2 + 10 * b + 25) ** 3\n",
        "\n",
        "# Задача 2\n",
        "x = int(input())\n",
        "w = log(x ** 2) / (1 + log(x) ** 2) + x / (log(x) - 1)\n",
        "\n",
        "# Задача 3\n",
        "p1, p2, p3 = float(input()), float(input()), float(input())\n",
        "print(1/p1 + 1/p2 + 1/p3)\n",
        "\n",
        "# Задача 4\n",
        "num = input()\n",
        "print(num[2:] + num[1])\n",
        "\n",
        "# Задача 5\n",
        "A = int(input())\n",
        "if A > 0:\n",
        "    print(\"Число A является положительным\")\n",
        "\n",
        "\n"
      ],
      "metadata": {
        "id": "UIkCE7eIbNqR"
      },
      "execution_count": null,
      "outputs": []
    },
    {
      "cell_type": "markdown",
      "source": [
        "# Задачи для темы 2"
      ],
      "metadata": {
        "id": "R3717RP0bQVX"
      }
    },
    {
      "cell_type": "code",
      "source": [
        "from math import log\n",
        "\n",
        "# Задача 1\n",
        "b = int(input())\n",
        "z = (9 - (b + 2) ** 2) / (b ** 2 + 10 * b + 25) ** 3\n",
        "\n",
        "# Задача 2\n",
        "x = int(input())\n",
        "w = log(x ** 2) / (1 + log(x) ** 2) + x / (log(x) - 1)\n",
        "\n",
        "# Задача 3\n",
        "p1, p2, p3 = float(input()), float(input()), float(input())\n",
        "print(1/p1 + 1/p2 + 1/p3)\n",
        "\n",
        "# Задача 4\n",
        "num = input()\n",
        "print(num[2:] + num[1])\n",
        "\n",
        "# Задача 5\n",
        "A = int(input())\n",
        "if A > 0:\n",
        "    print(\"Число A является положительным\")\n",
        "\n",
        "\n"
      ],
      "metadata": {
        "id": "sSrHLLjObT6I"
      },
      "execution_count": null,
      "outputs": []
    },
    {
      "cell_type": "markdown",
      "source": [
        "# Задачи для темы 3"
      ],
      "metadata": {
        "id": "YXZFSp7wbZLh"
      }
    },
    {
      "cell_type": "code",
      "source": [
        "from math import factorial as fact\n",
        "\n",
        "# Задача 1\n",
        "for x in range(0, 29):\n",
        "    k = 1\n",
        "    is_prime = True\n",
        "    f = 2 * x ** 2 + 29\n",
        "    while is_prime and k * k <= f:\n",
        "        if f % k == 0:\n",
        "            is_prime = True\n",
        "        k += 1\n",
        "    if is_prime:\n",
        "        print(f'число {f} простое')\n",
        "\n",
        "# Задача 2\n",
        "x = int(input())\n",
        "total_1, total_2 = 1, 1\n",
        "\n",
        "for num in range(1, 64):\n",
        "    total_1 = total_1 * (x - num)\n",
        "    total_2 = total_2 * (x - num - 1)\n",
        "if total_2 != 0:\n",
        "    print(total_1 / total_2)\n",
        "\n",
        "# Задача 3\n",
        "eps = 0.001\n",
        "amount = 0\n",
        "n = 1\n",
        "prev_el = fact(n) / (3 * n ** n)\n",
        "amount += prev_el\n",
        "el = 0\n",
        "while True:\n",
        "    n += 1\n",
        "    el = fact(n) / (3 * n ** n)\n",
        "    amount += el\n",
        "    if (el - prev_el) <= eps:\n",
        "        break\n",
        "    prev_el = el\n",
        "print(amount)\n",
        "\n",
        "# Задача 4\n",
        "n = 0\n",
        "is_zero = False\n",
        "\n",
        "while not is_zero:\n",
        "    num = int(input())\n",
        "    if num != 0:\n",
        "        n += 1\n",
        "    else:\n",
        "        is_zero = True\n",
        "print(n)\n"
      ],
      "metadata": {
        "id": "9CavjmCrbdKD"
      },
      "execution_count": null,
      "outputs": []
    },
    {
      "cell_type": "markdown",
      "source": [
        "# Задачи для темы 4\n"
      ],
      "metadata": {
        "id": "PlhQNP5SbgcT"
      }
    },
    {
      "cell_type": "code",
      "source": [
        "# Задача 1\n",
        "k = int(input())\n",
        "\n",
        "\n",
        "def sum_digit(num):\n",
        "    amount = 0\n",
        "    while num != 0:\n",
        "        amount = amount + num % 10\n",
        "    return amount\n",
        "\n",
        "\n",
        "for num in range(0, k + 1):\n",
        "    n = len(str(num))\n",
        "    if (sum_digit(num) ** n) == k:\n",
        "        print(f'число {k} является числом Амстронга')\n",
        "\n",
        "\n",
        "# Задача 2\n",
        "def sum_odd_num_fact():\n",
        "    amount = 0\n",
        "    fact = 1\n",
        "    for num in range(1, 10):\n",
        "        fact *= num\n",
        "        if num % 2 != 0:\n",
        "            amount += fact\n",
        "    return amount\n",
        "\n",
        "\n",
        "# Задача 3\n",
        "num = input()\n",
        "\n",
        "\n",
        "def to_decimal_num(num, p, amount, n):\n",
        "    if n != len(num):\n",
        "        amount = amount + (num % 10) * p ** n\n",
        "    else:\n",
        "        return amount\n",
        "\n",
        "\n",
        "for p in range(2, 10):\n",
        "    print(to_decimal_num(num, p, 0, 0))"
      ],
      "metadata": {
        "id": "Yqw7vGKkbkT0"
      },
      "execution_count": null,
      "outputs": []
    }
  ]
}
